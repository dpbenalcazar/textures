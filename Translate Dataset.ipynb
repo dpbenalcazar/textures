{
 "cells": [
  {
   "cell_type": "markdown",
   "metadata": {},
   "source": [
    "#### Create texture translation object"
   ]
  },
  {
   "cell_type": "code",
   "execution_count": 1,
   "metadata": {},
   "outputs": [],
   "source": [
    "from translateTexture import translate_texture\n",
    "\n",
    "TT = translate_texture(random_crop=False, random_flip=True)"
   ]
  },
  {
   "cell_type": "markdown",
   "metadata": {},
   "source": [
    "#### Dataset info"
   ]
  },
  {
   "cell_type": "code",
   "execution_count": 4,
   "metadata": {},
   "outputs": [],
   "source": [
    "dataset_dir = 'C:/Users/danki/Desktop/chl2_texture/'\n",
    "# must have train/digital/ , test/digital and validation/digital"
   ]
  },
  {
   "cell_type": "markdown",
   "metadata": {},
   "source": [
    "#### Translate dataset"
   ]
  },
  {
   "cell_type": "code",
   "execution_count": 5,
   "metadata": {},
   "outputs": [
    {
     "name": "stderr",
     "output_type": "stream",
     "text": [
      "  Texturing printed: 100%|███████████████████████████████████████████| 8/8 [00:01<00:00,  7.70it/s]\n",
      "  Texturing screen:   0%|                                                    | 0/8 [00:00<?, ?it/s]"
     ]
    },
    {
     "name": "stdout",
     "output_type": "stream",
     "text": [
      "  Texture printed completed!\n",
      "\n"
     ]
    },
    {
     "name": "stderr",
     "output_type": "stream",
     "text": [
      "  Texturing screen: 100%|████████████████████████████████████████████| 8/8 [00:00<00:00,  9.27it/s]\n",
      "  Texturing printed:  12%|█████▍                                     | 1/8 [00:00<00:00,  9.67it/s]"
     ]
    },
    {
     "name": "stdout",
     "output_type": "stream",
     "text": [
      "  Texture screen completed!\n",
      "\n",
      "test set done!\n",
      "\n"
     ]
    },
    {
     "name": "stderr",
     "output_type": "stream",
     "text": [
      "  Texturing printed: 100%|███████████████████████████████████████████| 8/8 [00:02<00:00,  3.04it/s]\n",
      "  Texturing screen:   0%|                                                    | 0/8 [00:00<?, ?it/s]"
     ]
    },
    {
     "name": "stdout",
     "output_type": "stream",
     "text": [
      "  Texture printed completed!\n",
      "\n"
     ]
    },
    {
     "name": "stderr",
     "output_type": "stream",
     "text": [
      "  Texturing screen: 100%|████████████████████████████████████████████| 8/8 [00:00<00:00, 11.22it/s]\n",
      "  Texturing printed:   0%|                                                   | 0/8 [00:00<?, ?it/s]"
     ]
    },
    {
     "name": "stdout",
     "output_type": "stream",
     "text": [
      "  Texture screen completed!\n",
      "\n",
      "train set done!\n",
      "\n"
     ]
    },
    {
     "name": "stderr",
     "output_type": "stream",
     "text": [
      "  Texturing printed: 100%|███████████████████████████████████████████| 8/8 [00:00<00:00,  8.14it/s]\n",
      "  Texturing screen:   0%|                                                    | 0/8 [00:00<?, ?it/s]"
     ]
    },
    {
     "name": "stdout",
     "output_type": "stream",
     "text": [
      "  Texture printed completed!\n",
      "\n"
     ]
    },
    {
     "name": "stderr",
     "output_type": "stream",
     "text": [
      "  Texturing screen: 100%|████████████████████████████████████████████| 8/8 [00:00<00:00, 10.10it/s]"
     ]
    },
    {
     "name": "stdout",
     "output_type": "stream",
     "text": [
      "  Texture screen completed!\n",
      "\n",
      "validation set done!\n",
      "\n"
     ]
    },
    {
     "name": "stderr",
     "output_type": "stream",
     "text": [
      "\n"
     ]
    }
   ],
   "source": [
    "for sets in ['test', 'train', 'validation']:\n",
    "    for souece in ['printed', 'screen']:\n",
    "        # Configure TT\n",
    "        TT.set_source(souece)\n",
    "        \n",
    "        # Set in/out folders\n",
    "        input_dir = dataset_dir + sets + '/digital/'\n",
    "        output_dir = dataset_dir + sets + '/'\n",
    "        \n",
    "        # Translate folder\n",
    "        TT.texture_folder(input_dir, output_dir, exten='.jpg')\n",
    "        \n",
    "    print('{} set done!\\n'.format(sets))\n",
    "        "
   ]
  }
 ],
 "metadata": {
  "kernelspec": {
   "display_name": "Python 3",
   "language": "python",
   "name": "python3"
  },
  "language_info": {
   "codemirror_mode": {
    "name": "ipython",
    "version": 3
   },
   "file_extension": ".py",
   "mimetype": "text/x-python",
   "name": "python",
   "nbconvert_exporter": "python",
   "pygments_lexer": "ipython3",
   "version": "3.7.9"
  }
 },
 "nbformat": 4,
 "nbformat_minor": 4
}
