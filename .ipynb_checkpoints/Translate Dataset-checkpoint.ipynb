{
 "cells": [
  {
   "cell_type": "markdown",
   "metadata": {},
   "source": [
    "#### Create texture translation object"
   ]
  },
  {
   "cell_type": "code",
   "execution_count": 1,
   "metadata": {},
   "outputs": [],
   "source": [
    "from translateTexture import translate_texture\n",
    "\n",
    "TT = translate_texture(random_crop=False, random_flip=True)"
   ]
  },
  {
   "cell_type": "markdown",
   "metadata": {},
   "source": [
    "#### Dataset info"
   ]
  },
  {
   "cell_type": "code",
   "execution_count": 7,
   "metadata": {},
   "outputs": [],
   "source": [
    "dataset_dir = '/home/daniel/Datasets/cedulas/Cedulas_Falsas_2021_11_15/mex2/'\n",
    "# must have train/digital/ , test/digital and validation/digital"
   ]
  },
  {
   "cell_type": "markdown",
   "metadata": {},
   "source": [
    "#### Translate dataset"
   ]
  },
  {
   "cell_type": "code",
   "execution_count": 8,
   "metadata": {},
   "outputs": [
    {
     "name": "stderr",
     "output_type": "stream",
     "text": [
      "  Texturing printed: 100%|██████████| 1035/1035 [00:23<00:00, 44.56it/s]\n",
      "  Texturing screen: 100%|██████████| 1035/1035 [00:33<00:00, 30.78it/s]\n",
      "  Texturing printed:   0%|          | 5/2069 [00:00<00:45, 45.85it/s]"
     ]
    },
    {
     "name": "stdout",
     "output_type": "stream",
     "text": [
      "test set done!\n",
      "\n"
     ]
    },
    {
     "name": "stderr",
     "output_type": "stream",
     "text": [
      "  Texturing printed: 100%|██████████| 2069/2069 [00:46<00:00, 44.43it/s]\n",
      "  Texturing screen: 100%|██████████| 2069/2069 [01:07<00:00, 30.60it/s]\n",
      "  Texturing printed:   1%|          | 6/1034 [00:00<00:18, 55.73it/s]"
     ]
    },
    {
     "name": "stdout",
     "output_type": "stream",
     "text": [
      "train set done!\n",
      "\n"
     ]
    },
    {
     "name": "stderr",
     "output_type": "stream",
     "text": [
      "  Texturing printed: 100%|██████████| 1034/1034 [00:23<00:00, 43.59it/s]\n",
      "  Texturing screen: 100%|██████████| 1034/1034 [00:33<00:00, 31.03it/s]"
     ]
    },
    {
     "name": "stdout",
     "output_type": "stream",
     "text": [
      "validation set done!\n",
      "\n"
     ]
    },
    {
     "name": "stderr",
     "output_type": "stream",
     "text": [
      "\n"
     ]
    }
   ],
   "source": [
    "for sets in ['test', 'train', 'validation']:\n",
    "    for souece in ['printed', 'screen']:\n",
    "        # Configure TT\n",
    "        TT.set_source(souece)\n",
    "        \n",
    "        # Set in/out folders\n",
    "        input_dir = dataset_dir + sets + '/digital/'\n",
    "        output_dir = dataset_dir + sets + '/'\n",
    "        \n",
    "        # Translate folder\n",
    "        TT.texture_folder(input_dir, output_dir, exten='.jpg')\n",
    "        \n",
    "    print('{} set done!\\n'.format(sets))\n",
    "        "
   ]
  },
  {
   "cell_type": "code",
   "execution_count": null,
   "metadata": {},
   "outputs": [],
   "source": []
  }
 ],
 "metadata": {
  "kernelspec": {
   "display_name": "Python 3",
   "language": "python",
   "name": "python3"
  },
  "language_info": {
   "codemirror_mode": {
    "name": "ipython",
    "version": 3
   },
   "file_extension": ".py",
   "mimetype": "text/x-python",
   "name": "python",
   "nbconvert_exporter": "python",
   "pygments_lexer": "ipython3",
   "version": "3.8.5"
  }
 },
 "nbformat": 4,
 "nbformat_minor": 4
}
